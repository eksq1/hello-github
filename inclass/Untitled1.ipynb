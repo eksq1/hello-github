{
  "nbformat": 4,
  "nbformat_minor": 0,
  "metadata": {
    "colab": {
      "provenance": [],
      "authorship_tag": "ABX9TyNtnUzQ8rlka1Q4SvSHuiC1",
      "include_colab_link": true
    },
    "kernelspec": {
      "name": "python3",
      "display_name": "Python 3"
    },
    "language_info": {
      "name": "python"
    }
  },
  "cells": [
    {
      "cell_type": "markdown",
      "metadata": {
        "id": "view-in-github",
        "colab_type": "text"
      },
      "source": [
        "<a href=\"https://colab.research.google.com/github/eksq1/hello-github/blob/main/inclass/Untitled1.ipynb\" target=\"_parent\"><img src=\"https://colab.research.google.com/assets/colab-badge.svg\" alt=\"Open In Colab\"/></a>"
      ]
    },
    {
      "cell_type": "code",
      "source": [
        "from google.colab import drive\n",
        "drive.mount('/content/drive')"
      ],
      "metadata": {
        "colab": {
          "base_uri": "https://localhost:8080/"
        },
        "id": "JcyVFQ94z5us",
        "outputId": "6b1e85ac-8d20-4b7e-b569-33f3af77b03a"
      },
      "execution_count": null,
      "outputs": [
        {
          "output_type": "stream",
          "name": "stdout",
          "text": [
            "Drive already mounted at /content/drive; to attempt to forcibly remount, call drive.mount(\"/content/drive\", force_remount=True).\n"
          ]
        }
      ]
    },
    {
      "cell_type": "code",
      "source": [
        "import pandas as pd\n",
        "\n",
        "# 엑셀 파일 불러오기\n",
        "df = pd.read_excel('/content/drive/MyDrive/drama/TMDB_중국드라마.xlsx')  # 파일 경로 변경 필요\n",
        "\n",
        "# 날짜 컬럼 확인 (예: '방영일' 컬럼)\n",
        "date_column = '방영일'  # 실제 컬럼명으로 변경 필요\n",
        "\n",
        "# 날짜 형식 통일하기\n",
        "def unify_date_format(date_value):\n",
        "    if pd.isna(date_value):  # 결측값 처리\n",
        "        return date_value\n",
        "    elif isinstance(date_value, str):  # 문자열인 경우\n",
        "        return pd.to_datetime(date_value).strftime('%Y-%m-%d')\n",
        "    elif isinstance(date_value, (int, float)):  # 숫자로 된 엑셀 날짜\n",
        "        return (pd.Timestamp('1899-12-30') + pd.Timedelta(days=date_value)).strftime('%Y-%m-%d')\n",
        "    else:  # datetime 객체인 경우\n",
        "        return date_value.strftime('%Y-%m-%d')\n",
        "\n",
        "# 날짜 형식 변환 적용\n",
        "df[date_column] = df[date_column].apply(unify_date_format)\n",
        "\n",
        "# 결과 확인\n",
        "print(df.head())\n",
        "\n",
        "# 변환된 파일 저장 (필요시)\n",
        "df.to_excel('formatted_file.xlsx', index=False)"
      ],
      "metadata": {
        "colab": {
          "base_uri": "https://localhost:8080/"
        },
        "id": "vFFwJE4dns-v",
        "outputId": "ddc906df-c93e-4358-ee26-c09122e466ca"
      },
      "execution_count": null,
      "outputs": [
        {
          "output_type": "stream",
          "name": "stdout",
          "text": [
            "      제목                                                 설명         방영일   평점  \\\n",
            "0     절요  교가 아씨는 오기를 가득하며 위가 후작 나리는 용맹하고 천생연분인 한 쌍이여 신통하...  2025-05-13  9.5   \n",
            "1   백월범성  인간 소녀, 백삭은 어릴 적부터 신선이 되는 길을 찾다, 극역의 요왕인 범월을 만나...  2025-01-07  8.2   \n",
            "2    장해전  옛 제국 '대융극'의 천문 담당 관원 쾨뚜오는 모함으로 하루아침에 가문이 몰살당한다...  2025-05-18  7.0   \n",
            "3   곡주부인  조정에 교주를 진상해야 하는 어민들은 인어의 눈물로 교주를 얻는다. 이 때문에 어촌...  2021-11-10  5.8   \n",
            "4  유리미인살  천계, 요마계, 인간계의 삼계가 공존하던 시대에 수라왕은 요마 연합군을 결성해 천계...  2020-08-06  8.7   \n",
            "\n",
            "                                                 포스터  \n",
            "0  https://image.tmdb.org/t/p/original/AZdlvg8Rij...  \n",
            "1  https://image.tmdb.org/t/p/original/5toSGvdIqh...  \n",
            "2  https://image.tmdb.org/t/p/original/iSiB2OmV5W...  \n",
            "3  https://image.tmdb.org/t/p/original/qS7YsiOLTY...  \n",
            "4  https://image.tmdb.org/t/p/original/orix7uY3aV...  \n"
          ]
        }
      ]
    },
    {
      "cell_type": "code",
      "source": [
        "import pandas as pd\n",
        "\n",
        "# 1. 엑셀 파일 불러오기\n",
        "df = pd.read_excel('TMDB_중국숫자변환.xlsx')  # 원본 파일 경로\n",
        "\n",
        "# 2. 날짜 형식 통일 (이전 코드 참조)\n",
        "# [날짜 처리 코드 추가]\n",
        "\n",
        "# 3. CSV 저장 전 특수 문자/쉼표 처리\n",
        "def clean_text(text):\n",
        "    if pd.isna(text):\n",
        "        return \"\"\n",
        "    text = str(text)\n",
        "    # 문제되는 문자 치환\n",
        "    text = text.replace(',', ' ')  # 쉼표 → 공백\n",
        "    text = text.replace('\\n', ' ')  # 줄바꿈 → 공백\n",
        "    text = text.replace('\"', \"'\")  # 쌍따옴표 → 홑따옴표\n",
        "    return text.strip()\n",
        "\n",
        "# 모든 컬럼에 적용\n",
        "df = df.applymap(clean_text)\n",
        "\n",
        "# 4. CSV로 저장 (UTF-8 인코딩)\n",
        "df.to_csv('cleaned_data.csv',\n",
        "          index=False,\n",
        "          encoding='utf-8-sig',  # 한글 깨짐 방지\n",
        "          quotechar='\"',  # 텍스트 감싸는 문자 지정\n",
        "          escapechar='\\\\')  # 특수 문자 이스케이프\n",
        "\n",
        "print(\"CSV 변환 완료!\")"
      ],
      "metadata": {
        "colab": {
          "base_uri": "https://localhost:8080/"
        },
        "id": "2VSBaavGq3W7",
        "outputId": "88da8fd0-8f52-4bf1-f392-06f597fbdfb3"
      },
      "execution_count": null,
      "outputs": [
        {
          "output_type": "stream",
          "name": "stdout",
          "text": [
            "CSV 변환 완료!\n"
          ]
        },
        {
          "output_type": "stream",
          "name": "stderr",
          "text": [
            "<ipython-input-13-435a6c8fa610>:21: FutureWarning: DataFrame.applymap has been deprecated. Use DataFrame.map instead.\n",
            "  df = df.applymap(clean_text)\n"
          ]
        }
      ]
    },
    {
      "cell_type": "code",
      "source": [
        "import pandas as pd\n",
        "\n",
        "# 엑셀 파일 불러오기\n",
        "df = pd.read_excel('/content/drive/MyDrive/drama/TMDB_한국_드라마.xlsx')  # 파일 경로 변경 필요\n",
        "\n",
        "# 날짜 컬럼 확인 (예: '방영일' 컬럼)\n",
        "date_column = '방영일'  # 실제 컬럼명으로 변경 필요\n",
        "\n",
        "# 날짜 형식 통일하기\n",
        "def unify_date_format(date_value):\n",
        "    if pd.isna(date_value):  # 결측값 처리\n",
        "        return date_value\n",
        "    elif isinstance(date_value, str):  # 문자열인 경우\n",
        "        return pd.to_datetime(date_value).strftime('%Y-%m-%d')\n",
        "    elif isinstance(date_value, (int, float)):  # 숫자로 된 엑셀 날짜\n",
        "        return (pd.Timestamp('1899-12-30') + pd.Timedelta(days=date_value)).strftime('%Y-%m-%d')\n",
        "    else:  # datetime 객체인 경우\n",
        "        return date_value.strftime('%Y-%m-%d')\n",
        "\n",
        "# 날짜 형식 변환 적용\n",
        "df[date_column] = df[date_column].apply(unify_date_format)\n",
        "\n",
        "# 결과 확인\n",
        "print(df.head())\n",
        "\n",
        "# 변환된 파일 저장 (필요시)\n",
        "df.to_excel('TMDB_한국숫자변환.xlsx', index=False)"
      ],
      "metadata": {
        "id": "g9vHjMLYrrOR",
        "colab": {
          "base_uri": "https://localhost:8080/"
        },
        "outputId": "12be2bb4-a133-4d06-9c86-d8b8d92c10db"
      },
      "execution_count": 14,
      "outputs": [
        {
          "output_type": "stream",
          "name": "stdout",
          "text": [
            "               제목                                                 설명  \\\n",
            "0            약한영웅  연시은은 공부 외엔 관심이 없지만 걸어온 싸움을 피하지도 않는다. 타고난 두뇌로 유...   \n",
            "1          오징어 게임  빚에 쫓기는 수백 명의 사람들이 서바이벌 게임에 뛰어든다. 거액의 상금으로 새로운 ...   \n",
            "2         폭싹 속았수다  당차고 야무진 소녀와 우직하고 헌신적인 소년. 제주 바닷가 작은 마을에서 한 뼘씩 ...   \n",
            "3  세상에서 제일 예쁜 내 딸  나는 왜 툭하면 엄마에게 짜증을 낼까. 나는 왜 툭하면 엄마에게 모든 화풀이를 하는...   \n",
            "4            여신강림  외모 콤플렉스를 가지고 있다가 화장을 통해 여신이 된 주경과 남모를 상처를 간직한 ...   \n",
            "\n",
            "          방영일     평점                                                포스터  \n",
            "0  2022-11-18  8.500  https://image.tmdb.org/t/p/w500/jXd83QZhBDAFno...  \n",
            "1  2021-09-17  7.862  https://image.tmdb.org/t/p/w500/yACIAqAkSLkX4c...  \n",
            "2  2025-03-07  8.889  https://image.tmdb.org/t/p/w500/koMkV9qm0PEZHD...  \n",
            "3  2019-03-23  7.300  https://image.tmdb.org/t/p/w500/oTYSS6m3LXw4jg...  \n",
            "4  2020-12-09  8.282  https://image.tmdb.org/t/p/w500/gaCOvKGG2qEnsi...  \n"
          ]
        }
      ]
    },
    {
      "cell_type": "code",
      "source": [
        "import pandas as pd\n",
        "\n",
        "# 엑셀 파일 불러오기\n",
        "df = pd.read_excel('/content/drive/MyDrive/drama/TMDB_일본_드라마.xlsx')  # 파일 경로 변경 필요\n",
        "\n",
        "# 날짜 컬럼 확인 (예: '방영일' 컬럼)\n",
        "date_column = '방영일'  # 실제 컬럼명으로 변경 필요\n",
        "\n",
        "# 날짜 형식 통일하기\n",
        "def unify_date_format(date_value):\n",
        "    if pd.isna(date_value):  # 결측값 처리\n",
        "        return date_value\n",
        "    elif isinstance(date_value, str):  # 문자열인 경우\n",
        "        return pd.to_datetime(date_value).strftime('%Y-%m-%d')\n",
        "    elif isinstance(date_value, (int, float)):  # 숫자로 된 엑셀 날짜\n",
        "        return (pd.Timestamp('1899-12-30') + pd.Timedelta(days=date_value)).strftime('%Y-%m-%d')\n",
        "    else:  # datetime 객체인 경우\n",
        "        return date_value.strftime('%Y-%m-%d')\n",
        "\n",
        "# 날짜 형식 변환 적용\n",
        "df[date_column] = df[date_column].apply(unify_date_format)\n",
        "\n",
        "# 결과 확인\n",
        "print(df.head())\n",
        "\n",
        "# 변환된 파일 저장 (필요시)\n",
        "df.to_excel('TMDB_일본숫자변환.xlsx', index=False)"
      ],
      "metadata": {
        "colab": {
          "base_uri": "https://localhost:8080/"
        },
        "id": "lfSPXEEZstJI",
        "outputId": "49c3c561-abb6-4241-a60c-b3b99271c20a"
      },
      "execution_count": 15,
      "outputs": [
        {
          "output_type": "stream",
          "name": "stdout",
          "text": [
            "                   제목                                                 설명  \\\n",
            "0                 병아리  산간 마을에서 자란 여주인공이 돈 벌러 간 채 행방불명이 된 아버지를 찾기 위해 도...   \n",
            "1                 아마짱  《아마짱》(일본어: あまちゃん)은, 2013년도 상반기에 NHK에서 제작되어, 종합...   \n",
            "2           결혼 못하는 남자  2006년 7월 Fuji TV에서 방영을 시작한 드라마. 40세의 생일을 앞둔 건축...   \n",
            "3  닥터 X ~외과의 다이몬 미치코~                      천재적인 수술 실력을 가진 프리랜서 외과 의사 이야기   \n",
            "4                  해님  나가노 아즈미노와 마츠모토를 배경으로 전쟁 전, 전시 중, 전후를 해님과 같이 웃는...   \n",
            "\n",
            "          방영일   평점                                                포스터  \n",
            "0  2017-04-03  8.2  https://image.tmdb.org/t/p/w500/utimgBSieMsvJp...  \n",
            "1  2013-04-01  8.3  https://image.tmdb.org/t/p/w500/xWC8HFCflXr8QN...  \n",
            "2  2006-07-04  8.0  https://image.tmdb.org/t/p/original/8bibuWvq94...  \n",
            "3  2012-10-18  7.4  https://image.tmdb.org/t/p/w500/xrn3UDlIU8yMnM...  \n",
            "4  2011-04-04  9.0  https://image.tmdb.org/t/p/w500/hcesyxtOgKi8iG...  \n"
          ]
        }
      ]
    },
    {
      "cell_type": "code",
      "source": [
        "import pandas as pd\n",
        "\n",
        "# 1. 엑셀 파일 불러오기\n",
        "df = pd.read_excel('TMDB_한국숫자변환.xlsx')  # 원본 파일 경로\n",
        "\n",
        "# 2. 날짜 형식 통일 (이전 코드 참조)\n",
        "# [날짜 처리 코드 추가]\n",
        "\n",
        "# 3. CSV 저장 전 특수 문자/쉼표 처리\n",
        "def clean_text(text):\n",
        "    if pd.isna(text):\n",
        "        return \"\"\n",
        "    text = str(text)\n",
        "    # 문제되는 문자 치환\n",
        "    text = text.replace(',', ' ')  # 쉼표 → 공백\n",
        "    text = text.replace('\\n', ' ')  # 줄바꿈 → 공백\n",
        "    text = text.replace('\"', \"'\")  # 쌍따옴표 → 홑따옴표\n",
        "    return text.strip()\n",
        "\n",
        "# 모든 컬럼에 적용\n",
        "df = df.applymap(clean_text)\n",
        "\n",
        "# 4. CSV로 저장 (UTF-8 인코딩)\n",
        "df.to_csv('TMDB_한국.csv',\n",
        "          index=False,\n",
        "          encoding='utf-8-sig',  # 한글 깨짐 방지\n",
        "          quotechar='\"',  # 텍스트 감싸는 문자 지정\n",
        "          escapechar='\\\\')  # 특수 문자 이스케이프\n",
        "\n",
        "print(\"CSV 변환 완료!\")"
      ],
      "metadata": {
        "colab": {
          "base_uri": "https://localhost:8080/"
        },
        "id": "BCy-306BszYP",
        "outputId": "c9b6826e-66af-4f01-9acf-c6af4f9b478c"
      },
      "execution_count": 16,
      "outputs": [
        {
          "output_type": "stream",
          "name": "stdout",
          "text": [
            "CSV 변환 완료!\n"
          ]
        },
        {
          "output_type": "stream",
          "name": "stderr",
          "text": [
            "<ipython-input-16-51f411b821df>:21: FutureWarning: DataFrame.applymap has been deprecated. Use DataFrame.map instead.\n",
            "  df = df.applymap(clean_text)\n"
          ]
        }
      ]
    },
    {
      "cell_type": "code",
      "source": [
        "import pandas as pd\n",
        "\n",
        "# 1. 엑셀 파일 불러오기\n",
        "df = pd.read_excel('TMDB_일본숫자변환.xlsx')  # 원본 파일 경로\n",
        "\n",
        "# 2. 날짜 형식 통일 (이전 코드 참조)\n",
        "# [날짜 처리 코드 추가]\n",
        "\n",
        "# 3. CSV 저장 전 특수 문자/쉼표 처리\n",
        "def clean_text(text):\n",
        "    if pd.isna(text):\n",
        "        return \"\"\n",
        "    text = str(text)\n",
        "    # 문제되는 문자 치환\n",
        "    text = text.replace(',', ' ')  # 쉼표 → 공백\n",
        "    text = text.replace('\\n', ' ')  # 줄바꿈 → 공백\n",
        "    text = text.replace('\"', \"'\")  # 쌍따옴표 → 홑따옴표\n",
        "    return text.strip()\n",
        "\n",
        "# 모든 컬럼에 적용\n",
        "df = df.applymap(clean_text)\n",
        "\n",
        "# 4. CSV로 저장 (UTF-8 인코딩)\n",
        "df.to_csv('TMDB_일본.csv',\n",
        "          index=False,\n",
        "          encoding='utf-8-sig',  # 한글 깨짐 방지\n",
        "          quotechar='\"',  # 텍스트 감싸는 문자 지정\n",
        "          escapechar='\\\\')  # 특수 문자 이스케이프\n",
        "\n",
        "print(\"CSV 변환 완료!\")"
      ],
      "metadata": {
        "colab": {
          "base_uri": "https://localhost:8080/"
        },
        "id": "fwh3grses8dF",
        "outputId": "9bdc7b87-431e-4378-c6f6-00e7a0cd08c5"
      },
      "execution_count": 17,
      "outputs": [
        {
          "output_type": "stream",
          "name": "stdout",
          "text": [
            "CSV 변환 완료!\n"
          ]
        },
        {
          "output_type": "stream",
          "name": "stderr",
          "text": [
            "<ipython-input-17-5314264d38e3>:21: FutureWarning: DataFrame.applymap has been deprecated. Use DataFrame.map instead.\n",
            "  df = df.applymap(clean_text)\n"
          ]
        }
      ]
    },
    {
      "cell_type": "code",
      "source": [
        "import pandas as pd\n",
        "import numpy as np\n",
        "\n",
        "# 1. 데이터 불러오기\n",
        "df_kr = pd.read_csv(\"TMDB_한국.csv\", encoding='utf-8-sig').assign(국가=\"한국\")\n",
        "df_jp = pd.read_csv(\"TMDB_일본.csv\", encoding='utf-8-sig').assign(국가=\"일본\")\n",
        "df_cn = pd.read_csv(\"TMDB_중국.csv\", encoding='utf-8-sig').assign(국가=\"중국\")\n",
        "\n",
        "# 2. 국가별로 개별 셔플 후 합치기 (계층적 셔플 효과)\n",
        "shuffled_kr = df_kr.sample(frac=1, random_state=42)\n",
        "shuffled_jp = df_jp.sample(frac=1, random_state=42)\n",
        "shuffled_cn = df_cn.sample(frac=1, random_state=42)\n",
        "\n",
        "combined = pd.concat([shuffled_kr, shuffled_jp, shuffled_cn])\n",
        "\n",
        "# 3. 전체 데이터 추가 셔플\n",
        "shuffled_df = combined.sample(frac=1, random_state=42).reset_index(drop=True)\n",
        "\n",
        "# 4. 국가별 분포 확인\n",
        "print(\"최종 셔플 후 국가별 분포:\")\n",
        "print(shuffled_df[\"국가\"].value_counts())\n",
        "\n",
        "# 5. 저장\n",
        "shuffled_df.to_csv(\"shuffleddata.csv\",\n",
        "                 index=False,\n",
        "                 encoding='utf-8-sig')\n",
        "print(\"✅ 계층적 셔플 완료! (국가별 균등 분포 유지)\")"
      ],
      "metadata": {
        "colab": {
          "base_uri": "https://localhost:8080/"
        },
        "id": "Tu1BqXyluXtK",
        "outputId": "7b66f0cf-48dd-43fb-faaa-4f7077b325f4"
      },
      "execution_count": 23,
      "outputs": [
        {
          "output_type": "stream",
          "name": "stdout",
          "text": [
            "최종 셔플 후 국가별 분포:\n",
            "국가\n",
            "한국    110\n",
            "일본    100\n",
            "중국     99\n",
            "Name: count, dtype: int64\n",
            "✅ 계층적 셔플 완료! (국가별 균등 분포 유지)\n"
          ]
        }
      ]
    }
  ]
}